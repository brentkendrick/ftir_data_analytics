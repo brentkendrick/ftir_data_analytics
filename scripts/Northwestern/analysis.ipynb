{
 "cells": [
  {
   "cell_type": "markdown",
   "metadata": {},
   "source": [
    "# Northwestern Data Analysis\n",
    "\n",
    "This notebook shows how to perform buffer subtraction using the FTIR tool suite developed by KBI Biopharma. \n",
    "\n",
    "Buffer subtraction tool kit was built to quickly and repeatably subtract buffer spectra from sample absorbance spectra. Historically, this process has been done manually, using visually assessment to determine the proper scaling factor to apply to the buffer spectra prior to substracting from the sample spectra. Two primary functions were built to automate this excercise and improve the repeatability. \n",
    "\n",
    "The first function `find_buffer_subtraction_constant` determines the constant scaling value to use for buffer subtraction. The second function `buffer_subtract` takes the absorbance data, and performs the buffer subtraction. Both functions are fairly simple, and their usage is demonstrated below. \n"
   ]
  },
  {
   "cell_type": "code",
   "execution_count": 5,
   "metadata": {},
   "outputs": [],
   "source": [
    "# Imports and pull in some data\n",
    "%matplotlib inline\n",
    "import pandas as pd\n",
    "import os\n",
    "import matplotlib.pyplot as plt\n",
    "from ftir.io.utils import create_df_from_multiple_files\n",
    "from ftir.modeling.buffer_subtraction import find_buffer_subtraction_constant, buffer_subtract\n",
    "from ftir.modeling.peak_fitting import gaussian_least_squares, secondary_structure, sd_baseline_correction\n",
    "from ftir.modeling.peak_definitions import yang_d20_2015, yang_h20_2015\n",
    "from scipy.spatial import ConvexHull\n",
    "\n",
    "\n",
    "location = os.getcwd()\n",
    "d2o_buffer = os.path.abspath(\"data/D2O Buffer_0.txt\")\n",
    "h2o_buffer = os.path.abspath(\"data/H2O Buffer_0.txt\")\n",
    "\n",
    "d2o_samples = ['Sample in D2O_0.txt', 'OVA in D2O_0.txt', 'OVA in D2O r2_0.txt']\n",
    "h2o_samples = ['Protein in H2O_0.txt']\n",
    "d2o_filenames = [location + '/data/' + i for i in d2o_samples]\n",
    "h2o_filenames = [location + '/data/' + i for i in h2o_samples]\n",
    "\n",
    "d2o_files = [d2o_buffer] + d2o_filenames\n",
    "h2o_files = [h2o_buffer] + h2o_filenames\n",
    "\n",
    "#d2o_df, a = create_df_from_multiple_files(d2o_files)\n",
    "h2o_df, a = create_df_from_multiple_files(h2o_files)\n",
    "\n"
   ]
  },
  {
   "cell_type": "code",
   "execution_count": 4,
   "metadata": {},
   "outputs": [
    {
     "ename": "AttributeError",
     "evalue": "'str' object has no attribute 'columns'",
     "output_type": "error",
     "traceback": [
      "\u001b[0;31m---------------------------------------------------------------------------\u001b[0m",
      "\u001b[0;31mAttributeError\u001b[0m                            Traceback (most recent call last)",
      "\u001b[0;32m<ipython-input-4-240d30f65cd6>\u001b[0m in \u001b[0;36m<module>\u001b[0;34m\u001b[0m\n\u001b[0;32m----> 1\u001b[0;31m \u001b[0mh2o_sub\u001b[0m \u001b[0;34m=\u001b[0m \u001b[0mbuffer_subtract\u001b[0m\u001b[0;34m(\u001b[0m\u001b[0mh2o_df\u001b[0m\u001b[0;34m)\u001b[0m\u001b[0;34m\u001b[0m\u001b[0;34m\u001b[0m\u001b[0m\n\u001b[0m\u001b[1;32m      2\u001b[0m \u001b[0max\u001b[0m \u001b[0;34m=\u001b[0m \u001b[0mh2o_sub\u001b[0m\u001b[0;34m.\u001b[0m\u001b[0mplot\u001b[0m\u001b[0;34m(\u001b[0m\u001b[0mx\u001b[0m\u001b[0;34m=\u001b[0m\u001b[0;34m'freq'\u001b[0m\u001b[0;34m,\u001b[0m \u001b[0mfigsize\u001b[0m\u001b[0;34m=\u001b[0m\u001b[0;34m(\u001b[0m\u001b[0;36m12\u001b[0m\u001b[0;34m,\u001b[0m\u001b[0;36m5\u001b[0m\u001b[0;34m)\u001b[0m\u001b[0;34m)\u001b[0m\u001b[0;34m\u001b[0m\u001b[0;34m\u001b[0m\u001b[0m\n\u001b[1;32m      3\u001b[0m \u001b[0max\u001b[0m\u001b[0;34m.\u001b[0m\u001b[0minvert_xaxis\u001b[0m\u001b[0;34m(\u001b[0m\u001b[0;34m)\u001b[0m\u001b[0;34m\u001b[0m\u001b[0;34m\u001b[0m\u001b[0m\n",
      "\u001b[0;32m~/Devel/ftir_data_analytics/ftir/modeling/buffer_subtraction.py\u001b[0m in \u001b[0;36mbuffer_subtract\u001b[0;34m(df, buffer, baseline_min, baseline_max, constant, constant_params)\u001b[0m\n\u001b[1;32m    116\u001b[0m         \u001b[0mspectra\u001b[0m\u001b[0;34m.\u001b[0m\u001b[0;34m\u001b[0m\u001b[0;34m\u001b[0m\u001b[0m\n\u001b[1;32m    117\u001b[0m     \"\"\"\n\u001b[0;32m--> 118\u001b[0;31m     \u001b[0mbuffer_col\u001b[0m \u001b[0;34m=\u001b[0m \u001b[0mdf\u001b[0m\u001b[0;34m.\u001b[0m\u001b[0mcolumns\u001b[0m\u001b[0;34m[\u001b[0m\u001b[0mbuffer\u001b[0m\u001b[0;34m]\u001b[0m\u001b[0;34m\u001b[0m\u001b[0;34m\u001b[0m\u001b[0m\n\u001b[0m\u001b[1;32m    119\u001b[0m     \u001b[0msamples\u001b[0m \u001b[0;34m=\u001b[0m \u001b[0mdf\u001b[0m\u001b[0;34m.\u001b[0m\u001b[0mcolumns\u001b[0m\u001b[0;34m.\u001b[0m\u001b[0mdrop\u001b[0m\u001b[0;34m(\u001b[0m\u001b[0mbuffer_col\u001b[0m\u001b[0;34m)\u001b[0m\u001b[0;34m\u001b[0m\u001b[0;34m\u001b[0m\u001b[0m\n\u001b[1;32m    120\u001b[0m \u001b[0;34m\u001b[0m\u001b[0m\n",
      "\u001b[0;31mAttributeError\u001b[0m: 'str' object has no attribute 'columns'"
     ]
    }
   ],
   "source": [
    "h2o_sub = buffer_subtract(h2o_df)\n",
    "ax = h2o_sub.plot(x='freq', figsize=(12,5))\n",
    "ax.invert_xaxis()"
   ]
  },
  {
   "cell_type": "code",
   "execution_count": 4,
   "metadata": {},
   "outputs": [],
   "source": [
    "d2o_samples = ['Sample in D2O_0 2Der.txt', 'OVA in D2O_0 2Der.txt', 'OVA in D2O r2_0 2Der.txt']\n",
    "h2o_samples = ['Protein in H2O_0 2Der.txt']\n",
    "\n",
    "d2o_filenames = [location + '/data/second der/' + i for i in d2o_samples]\n",
    "h2o_filenames = [location + '/data/second der/' + i for i in h2o_samples]\n",
    "\n",
    "d2o_files = d2o_filenames\n",
    "h2o_files = h2o_filenames\n",
    "\n",
    "d2o_df, a = create_df_from_multiple_files(d2o_files)\n",
    "h2o_df, a = create_df_from_multiple_files(h2o_files)"
   ]
  },
  {
   "cell_type": "code",
   "execution_count": 6,
   "metadata": {},
   "outputs": [
    {
     "name": "stdout",
     "output_type": "stream",
     "text": [
      "{'unordered': 0.07622129101538859, 'beta_sheet': 0.6171887395176093, 'alpha_helix': 0.06856446741275352, 'beta_turn': 0.17462041359600736, '310_helix': 0.06340508845824129}\n"
     ]
    }
   ],
   "source": [
    "index = 1\n",
    "area, res = gaussian_least_squares(h2o_sub, h2o_sub.columns[index], peaks=yang_h20_2015)\n",
    "structs = secondary_structure(area, yang_h20_2015)\n",
    "print(structs)"
   ]
  },
  {
   "cell_type": "code",
   "execution_count": 1,
   "metadata": {},
   "outputs": [],
   "source": [
    "import numpy as np\n",
    "def rubberband(x, y):\n",
    "    # Find the convex hull\n",
    "    v = ConvexHull(np.column_stack([x, y])).vertices\n",
    "    v = np.roll(v, -v.argmin())\n",
    "    # Leave only the ascending part\n",
    "    v = v[:v.argmax()]\n",
    "    # Create baseline using linear interpolation between vertices\n",
    "    return y - np.interp(x, x[v], y[v])"
   ]
  },
  {
   "cell_type": "code",
   "execution_count": 2,
   "metadata": {},
   "outputs": [
    {
     "ename": "NameError",
     "evalue": "name 'plt' is not defined",
     "output_type": "error",
     "traceback": [
      "\u001b[0;31m---------------------------------------------------------------------------\u001b[0m",
      "\u001b[0;31mNameError\u001b[0m                                 Traceback (most recent call last)",
      "\u001b[0;32m<ipython-input-2-e46a8786a1e6>\u001b[0m in \u001b[0;36m<module>\u001b[0;34m\u001b[0m\n\u001b[0;32m----> 1\u001b[0;31m \u001b[0mplt\u001b[0m\u001b[0;34m.\u001b[0m\u001b[0mplot\u001b[0m\u001b[0;34m(\u001b[0m\u001b[0mh2o_df\u001b[0m\u001b[0;34m[\u001b[0m\u001b[0;34m'freq'\u001b[0m\u001b[0;34m]\u001b[0m\u001b[0;34m,\u001b[0m \u001b[0mrubberband\u001b[0m\u001b[0;34m(\u001b[0m\u001b[0mh2o_df\u001b[0m\u001b[0;34m[\u001b[0m\u001b[0;34m'freq'\u001b[0m\u001b[0;34m]\u001b[0m\u001b[0;34m,\u001b[0m \u001b[0mh2o_df\u001b[0m\u001b[0;34m[\u001b[0m\u001b[0;34m'buffer'\u001b[0m\u001b[0;34m]\u001b[0m\u001b[0;34m)\u001b[0m\u001b[0;34m)\u001b[0m\u001b[0;34m\u001b[0m\u001b[0;34m\u001b[0m\u001b[0m\n\u001b[0m",
      "\u001b[0;31mNameError\u001b[0m: name 'plt' is not defined"
     ]
    }
   ],
   "source": [
    "plt.plot(h2o_df['freq'], rubberband(h2o_df['freq'], h2o_df['buffer']))"
   ]
  },
  {
   "cell_type": "code",
   "execution_count": null,
   "metadata": {},
   "outputs": [],
   "source": []
  }
 ],
 "metadata": {
  "kernelspec": {
   "display_name": "Python 3",
   "language": "python",
   "name": "python3"
  },
  "language_info": {
   "codemirror_mode": {
    "name": "ipython",
    "version": 3
   },
   "file_extension": ".py",
   "mimetype": "text/x-python",
   "name": "python",
   "nbconvert_exporter": "python",
   "pygments_lexer": "ipython3",
   "version": "3.6.7"
  }
 },
 "nbformat": 4,
 "nbformat_minor": 1
}
