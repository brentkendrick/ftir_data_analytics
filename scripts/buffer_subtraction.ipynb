{
 "cells": [
  {
   "cell_type": "code",
   "execution_count": null,
   "metadata": {
    "collapsed": true
   },
   "outputs": [],
   "source": [
    "uff_subtracted_dataframes = [] #create empty list to store buffer subtracted data\n",
    "amideI_dataframes = []  #create empty list to store Amide I Area normalized data\n",
    "\n",
    "source_file = eval(input(\"\"\"Enter 1 to import all data from a single csv (with headers), or 2 for individual data and buffer files (no headers) \"\"\"))\n",
    "\n",
    "if source_file == 1: \n",
    "    source_file = True\n",
    "else: source_file = False\n",
    "    \n",
    "if source_file:\n",
    "    raw_data_filename, directory = select_file()\n",
    "\n",
    "    rawData_df, raw_data_filenames = create_df_from_single_file(raw_data_filename, directory)  #Creates the raw signal dataframe of buffer and each protein through the loop   \n",
    "    print(raw_data_filenames)\n",
    "    print(rawData_df.head(3))\n",
    "    \n",
    "else:\n",
    "    raw_data_filenames, directory = select_files() #Calls select_files to read and pass back the filenames of interest in a list\n",
    "    \n",
    "    rawData_df, raw_data_filenames = create_df_from_multiple_files(raw_data_filenames, directory)  #Creates the raw signal dataframe of buffer and each protein through the loop   \n",
    "    \n",
    "num_files = len(raw_data_filenames)-2 #length excludes buffer file\n",
    "initial_x_df = rawData_df.iloc[:, 0:2].copy()  #copies x-axis and buffer data for loop dataframe \n",
    "\n",
    "\n",
    "for i in range(num_files): #Loops through all selected files \n",
    "    raw_data_file = raw_data_filenames[i+2] #Loops through filename 1 - range to create buffer and protein list\n",
    "\n",
    "    raw_data_file_df1 = rawData_df[[raw_data_file]].copy()  #Creates the raw signal dataframe of buffer and each protein through the loop   \n",
    "\n",
    "    raw_data_file_df2 = pd.concat([initial_x_df, raw_data_file_df1], axis=1)\n",
    "\n",
    "    protein = raw_data_file_df2.columns[2] #Gets column name of current spectra being processed\n",
    "    print('Currently processing file: ' + protein)    \n",
    "\n",
    "    subtr_df = buffer_subtract(raw_data_file_df2).copy() #adds buffer subtracted spectra to df  \n",
    "\n",
    "    \n",
    "    full_x_df = subtr_df.iloc[:, [0]].copy()  #copies x-axis data for building buffer subtracted dataframe \n",
    "    buffsub_col = subtr_df[[protein + '_subtracted']] #Extract only the buffer subtracted column    \n",
    "    buff_subtracted_dataframes.append(buffsub_col)\n",
    "    \n",
    "    crop_df = crop(subtr_df) #truncates data to amide I region\n",
    "    crop_x_df = crop_df.iloc[:, [0]].copy()  #copies x-axis data for building buffer subtracted dataframe \n",
    "    amideI_col = crop_df[[protein + '_subtracted']]\n",
    "    amideI_dataframes.append(amideI_col)\n",
    "\n",
    "    \n",
    "all_subtracted_df = pd.concat(buff_subtracted_dataframes, axis=1)    \n",
    "all_subtracted_df = pd.concat([full_x_df, all_subtracted_df], axis=1)\n",
    "all_subtracted_df.plot(x='freq', figsize=(14,10))\n",
    "\n",
    "plt.savefig(directory +'subtr'+'.png')\n",
    "plt.show()\n",
    "plt.close()\n",
    "\n",
    "all_amideI_df = pd.concat(amideI_dataframes, axis=1)    \n",
    "all_amideI_df = pd.concat([crop_x_df, all_amideI_df], axis=1)\n",
    "\n",
    "all_subtracted_df.to_csv(directory + '/' + 'BufferSubtracted'+'.csv', index=False)\n",
    "all_amideI_df.to_csv(directory + '/' + 'Amide_I_Buffer_Subtracted'+'.csv', index=False)\n",
    "\n",
    "print('\\nDone!')\n"
   ]
  }
 ],
 "metadata": {
  "kernelspec": {
   "display_name": "Python 2",
   "language": "python",
   "name": "python2"
  },
  "language_info": {
   "codemirror_mode": {
    "name": "ipython",
    "version": 2
   },
   "file_extension": ".py",
   "mimetype": "text/x-python",
   "name": "python",
   "nbconvert_exporter": "python",
   "pygments_lexer": "ipython2",
   "version": "2.7.6"
  }
 },
 "nbformat": 4,
 "nbformat_minor": 0
}
