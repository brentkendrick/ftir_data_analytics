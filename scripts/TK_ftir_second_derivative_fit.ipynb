{
 "cells": [
  {
   "cell_type": "code",
   "execution_count": null,
   "metadata": {
    "collapsed": true
   },
   "outputs": [],
   "source": [
    "#Block for creating basic UI and output figures/csvs.\n",
    "\n",
    "print(\"Enter 2nd derivative FTIR flipped and baseline corrected input file \"\n",
    "      \"using the pop-up window.\")\n",
    "\n",
    "# Calls select_files to read and pass back the filename of interest in a list\n",
    "raw_data_filename, directory = select_file()\n",
    "\n",
    "print(\"Generating output files...\")\n",
    "\n",
    "# Creates the raw signal dataframe\n",
    "rawData_df = create_df(raw_data_filename)\n",
    "\n",
    "    \n",
    "proteins = list(rawData_df.columns)[1:]\n",
    "\n",
    "print(proteins)\n",
    "\n",
    "structures = {}\n",
    "structures['File']=[]\n",
    "structures['Turn']=[]\n",
    "structures['α-Helix']=[]\n",
    "structures['Unordered']=[]\n",
    "structures['β-Sheet']=[] \n",
    "    \n",
    "    \n",
    "num_files = len(raw_data_filename)\n",
    "print(num_files)\n",
    "\n",
    "for i in proteins:\n",
    "    \n",
    "    current_df = rawData_df[['freq', i]].copy()\n",
    "    print(current_df.head(5))\n",
    "\n",
    "    \n",
    "    s = create_plots(current_df, directory)\n",
    "    d, pct_turn, pct_helix, pct_unordered, pct_sheet = s\n",
    "\n",
    "    structures['File'].append(d)\n",
    "    structures['Turn'].append(pct_turn)\n",
    "    structures['α-Helix'].append(pct_helix)\n",
    "    structures['Unordered'].append(pct_unordered) \n",
    "    structures['β-Sheet'].append(pct_sheet) \n",
    "\n",
    "\n",
    "struct_df = pd.DataFrame(structures)\n",
    "print(struct_df)\n",
    "struct_df.to_csv(directory + '/' + 'Gaussian fits for selected files.csv', encoding='utf-8-sig')\n",
    "\n",
    "print ('\\nDone!')"
   ]
  }
 ],
 "metadata": {
  "kernelspec": {
   "display_name": "Python 3",
   "language": "python",
   "name": "python3"
  },
  "language_info": {
   "codemirror_mode": {
    "name": "ipython",
    "version": 3
   },
   "file_extension": ".py",
   "mimetype": "text/x-python",
   "name": "python",
   "nbconvert_exporter": "python",
   "pygments_lexer": "ipython3",
   "version": "3.6.6"
  }
 },
 "nbformat": 4,
 "nbformat_minor": 1
}
